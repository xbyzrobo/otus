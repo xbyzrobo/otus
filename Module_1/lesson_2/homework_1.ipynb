{
 "cells": [
  {
   "cell_type": "code",
   "execution_count": 34,
   "metadata": {},
   "outputs": [],
   "source": [
    "import torch\n",
    "import torch.nn as nn\n",
    "import torch.nn.functional as F\n",
    "import torch.optim as optim\n",
    "\n",
    "import numpy as np\n",
    "from numpy.linalg import norm\n",
    "import scipy.stats as stats\n",
    "import matplotlib.pyplot as plt\n",
    "\n",
    "%matplotlib inline"
   ]
  },
  {
   "cell_type": "code",
   "execution_count": 35,
   "metadata": {},
   "outputs": [],
   "source": [
    "# параметры распределений\n",
    "mu0 = np.array([-2.,1.])\n",
    "mu1 = np.array([3.,-0.5])"
   ]
  },
  {
   "cell_type": "code",
   "execution_count": 36,
   "metadata": {},
   "outputs": [],
   "source": [
    "def sample(d0, d1, n=32):\n",
    "    x0 = d0.sample((n,))\n",
    "    x1 = d1.sample((n,))\n",
    "    y0 = torch.zeros((n, 1))\n",
    "    y1 = torch.ones((n, 1))\n",
    "    return torch.cat([x0, x1], 0), torch.cat([y0, y1], 0)"
   ]
  },
  {
   "cell_type": "code",
   "execution_count": 37,
   "metadata": {},
   "outputs": [],
   "source": [
    "d0 = torch.distributions.MultivariateNormal(torch.tensor(mu0.data), torch.eye(2))\n",
    "d1 = torch.distributions.MultivariateNormal(torch.tensor(mu1.data), torch.eye(2))"
   ]
  },
  {
   "cell_type": "code",
   "execution_count": 38,
   "metadata": {},
   "outputs": [
    {
     "data": {
      "text/plain": [
       "tensor([[-1.6980, -1.3051],\n",
       "        [-0.9531,  1.0700],\n",
       "        [-1.2549,  2.8857],\n",
       "        [-2.6195,  0.1433],\n",
       "        [-2.1971,  0.7686],\n",
       "        [-1.4673,  1.5856],\n",
       "        [-1.3522,  1.4560],\n",
       "        [-1.4610, -0.7041],\n",
       "        [-2.7969,  0.9886],\n",
       "        [-2.7354,  1.8919]])"
      ]
     },
     "execution_count": 38,
     "metadata": {},
     "output_type": "execute_result"
    }
   ],
   "source": [
    "d0.sample((10,))"
   ]
  },
  {
   "cell_type": "code",
   "execution_count": 39,
   "metadata": {},
   "outputs": [
    {
     "data": {
      "text/plain": [
       "tensor([[ 2.9075, -0.5467],\n",
       "        [ 3.5735, -0.4287],\n",
       "        [ 5.0699,  0.2841],\n",
       "        [ 3.0299,  0.1094],\n",
       "        [ 2.9237,  0.0579],\n",
       "        [ 3.1697, -1.8326],\n",
       "        [ 2.7154, -0.9828],\n",
       "        [ 2.8683, -0.4950],\n",
       "        [ 1.5013,  0.2040],\n",
       "        [ 3.0168,  0.1205]])"
      ]
     },
     "execution_count": 39,
     "metadata": {},
     "output_type": "execute_result"
    }
   ],
   "source": [
    "d1.sample((10,))"
   ]
  },
  {
   "cell_type": "code",
   "execution_count": 40,
   "metadata": {},
   "outputs": [
    {
     "name": "stdout",
     "output_type": "stream",
     "text": [
      "[tensor([-0.4578,  0.1460]), tensor(0.4862)]\n"
     ]
    }
   ],
   "source": [
    "layer = nn.Linear(2, 1)\n",
    "print([p.data[0] for p in layer.parameters()])\n",
    "layer_opt = optim.SGD(lr=1e-3, params=list(layer.parameters()))"
   ]
  },
  {
   "cell_type": "code",
   "execution_count": null,
   "metadata": {},
   "outputs": [
    {
     "name": "stdout",
     "output_type": "stream",
     "text": [
      "Ошибка после 0 итераций: 1.531850\n",
      "Ошибка после 1 итераций: 0.483262\n",
      "Ошибка после 2 итераций: 0.271718\n",
      "Ошибка после 3 итераций: 0.194702\n",
      "Ошибка после 4 итераций: 0.155626\n",
      "Ошибка после 5 итераций: 0.130886\n",
      "Ошибка после 6 итераций: 0.114603\n",
      "Ошибка после 7 итераций: 0.102490\n",
      "Ошибка после 8 итераций: 0.093228\n",
      "Ошибка после 9 итераций: 0.086259\n",
      "Ошибка после 10 итераций: 0.080464\n",
      "Ошибка после 11 итераций: 0.075302\n",
      "Ошибка после 12 итераций: 0.071277\n",
      "Ошибка после 13 итераций: 0.067500\n"
     ]
    }
   ],
   "source": [
    "log_freq = 500\n",
    "for i in range(10000):\n",
    "    if i%log_freq == 0:\n",
    "        with torch.no_grad():\n",
    "            x, y = sample(d0, d1, 100000)\n",
    "            out = torch.sigmoid(layer(x))\n",
    "            loss = F.binary_cross_entropy(out, y)\n",
    "        print('Ошибка после %d итераций: %f' %(i/log_freq, loss))\n",
    "    layer_opt.zero_grad()\n",
    "    x, y = sample(d0, d1, 1024)\n",
    "    out = torch.sigmoid(layer(x))\n",
    "    loss = F.binary_cross_entropy(out, y)\n",
    "    loss.backward()\n",
    "    layer_opt.step()"
   ]
  },
  {
   "cell_type": "code",
   "execution_count": 30,
   "metadata": {},
   "outputs": [
    {
     "name": "stdout",
     "output_type": "stream",
     "text": [
      "torch.Size([5000, 2])\n"
     ]
    }
   ],
   "source": [
    "x_scale = np.linspace(-10, 10, 5000)\n",
    "d0_pdf = stats.norm.pdf(x_scale, norm(mu0, ord=2), 1) \n",
    "d1_pdf = stats.norm.pdf(x_scale, norm(mu1, ord=2), 1)\n",
    "x_tensor = torch.tensor(np.linspace(-10, 10, 10000).reshape(-1, 2), dtype=torch.float)\n",
    "print(x_tensor.shape)\n",
    "with torch.no_grad():\n",
    "    dist = torch.sigmoid(layer(x_tensor)).numpy()\n",
    "ratio = d1_pdf / (d1_pdf + d0_pdf)"
   ]
  },
  {
   "cell_type": "code",
   "execution_count": 31,
   "metadata": {},
   "outputs": [
    {
     "data": {
      "image/png": "[encoded data removed]",
      "text/plain": [
       "<Figure size 432x288 with 1 Axes>"
      ]
     },
     "metadata": {
      "needs_background": "light"
     },
     "output_type": "display_data"
    }
   ],
   "source": [
    "plt.plot(x_scale, d0_pdf*2, label='d0') # умножение на 2 для красоты графиков, на распределения не влияет\n",
    "plt.plot(x_scale, d1_pdf*2, label='d1')\n",
    "plt.plot(x_scale, dist.flatten(), label='pred')\n",
    "plt.plot(x_scale, ratio, label='ratio')\n",
    "plt.legend();"
   ]
  }
 ],
 "metadata": {
  "kernelspec": {
   "display_name": "Python 3",
   "language": "python",
   "name": "python3"
  },
  "language_info": {
   "codemirror_mode": {
    "name": "ipython",
    "version": 3
   },
   "file_extension": ".py",
   "mimetype": "text/x-python",
   "name": "python",
   "nbconvert_exporter": "python",
   "pygments_lexer": "ipython3",
   "version": "3.6.8"
  }
 },
 "nbformat": 4,
 "nbformat_minor": 2
}
