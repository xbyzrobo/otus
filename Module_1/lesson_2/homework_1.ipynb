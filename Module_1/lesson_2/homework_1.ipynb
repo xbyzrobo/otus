{
 "cells": [
  {
   "cell_type": "code",
   "execution_count": 1,
   "metadata": {},
   "outputs": [],
   "source": [
    "import torch\n",
    "import torch.nn as nn\n",
    "import torch.nn.functional as F\n",
    "import torch.optim as optim\n",
    "\n",
    "import numpy as np\n",
    "from numpy.linalg import norm\n",
    "import scipy.stats as stats\n",
    "import matplotlib.pyplot as plt\n",
    "from mpl_toolkits.mplot3d import Axes3D\n",
    "import matplotlib.pyplot as plt\n",
    "import seaborn as sns\n",
    "import pandas as pd\n",
    "\n",
    "\n",
    "%matplotlib inline "
   ]
  },
  {
   "cell_type": "code",
   "execution_count": 2,
   "metadata": {},
   "outputs": [],
   "source": [
    "# параметры распределений\n",
    "mu0 = np.array([-2.,1.])\n",
    "mu1 = np.array([3.,-0.5])"
   ]
  },
  {
   "cell_type": "code",
   "execution_count": 3,
   "metadata": {},
   "outputs": [],
   "source": [
    "def sample(d0, d1, n=32):\n",
    "    x0 = d0.sample((n,))\n",
    "    x1 = d1.sample((n,))\n",
    "    y0 = torch.zeros((n, 1))\n",
    "    y1 = torch.ones((n, 1))\n",
    "    return torch.cat([x0, x1], 0), torch.cat([y0, y1], 0)"
   ]
  },
  {
   "cell_type": "code",
   "execution_count": 4,
   "metadata": {},
   "outputs": [],
   "source": [
    "d0 = torch.distributions.MultivariateNormal(torch.tensor(mu0.data), torch.eye(2))\n",
    "d1 = torch.distributions.MultivariateNormal(torch.tensor(mu1.data), torch.eye(2))"
   ]
  },
  {
   "cell_type": "code",
   "execution_count": 5,
   "metadata": {},
   "outputs": [
    {
     "data": {
      "text/plain": [
       "tensor([[-3.4947,  2.4355],\n",
       "        [-0.7773,  2.1576],\n",
       "        [-1.7807,  1.7188],\n",
       "        [-1.8458,  1.5331],\n",
       "        [-2.2363,  0.7015],\n",
       "        [-1.6565,  1.0941],\n",
       "        [-0.7751,  0.7468],\n",
       "        [-1.3851,  2.6464],\n",
       "        [-3.1771,  2.4358],\n",
       "        [-4.2922,  2.9687]])"
      ]
     },
     "execution_count": 5,
     "metadata": {},
     "output_type": "execute_result"
    }
   ],
   "source": [
    "d0.sample((10,))"
   ]
  },
  {
   "cell_type": "code",
   "execution_count": 6,
   "metadata": {},
   "outputs": [
    {
     "data": {
      "text/plain": [
       "tensor([[ 2.0937,  0.1611],\n",
       "        [ 3.3973,  0.9651],\n",
       "        [ 1.9155, -0.2243],\n",
       "        [ 2.2545, -2.7943],\n",
       "        [ 3.5233,  1.6391],\n",
       "        [ 4.3992, -1.5743],\n",
       "        [ 3.5580, -1.4142],\n",
       "        [ 2.5661,  0.4937],\n",
       "        [ 1.9317, -2.2780],\n",
       "        [ 2.1978, -0.0363]])"
      ]
     },
     "execution_count": 6,
     "metadata": {},
     "output_type": "execute_result"
    }
   ],
   "source": [
    "d1.sample((10,))"
   ]
  },
  {
   "cell_type": "code",
   "execution_count": 7,
   "metadata": {},
   "outputs": [
    {
     "name": "stdout",
     "output_type": "stream",
     "text": [
      "[tensor([ 0.6848, -0.6703]), tensor(0.3787)]\n"
     ]
    }
   ],
   "source": [
    "layer = nn.Linear(2, 1)\n",
    "print([p.data[0] for p in layer.parameters()])\n",
    "layer_opt = optim.SGD(lr=1e-3, params=list(layer.parameters()))"
   ]
  },
  {
   "cell_type": "code",
   "execution_count": 8,
   "metadata": {},
   "outputs": [
    {
     "name": "stdout",
     "output_type": "stream",
     "text": [
      "Ошибка после 0 итераций: 0.162734\n",
      "Ошибка после 1 итераций: 0.159723\n",
      "Ошибка после 2 итераций: 0.157615\n",
      "Ошибка после 3 итераций: 0.153394\n",
      "Ошибка после 4 итераций: 0.151518\n",
      "Ошибка после 5 итераций: 0.148363\n",
      "Ошибка после 6 итераций: 0.145795\n",
      "Ошибка после 7 итераций: 0.142713\n",
      "Ошибка после 8 итераций: 0.140363\n",
      "Ошибка после 9 итераций: 0.137883\n",
      "Ошибка после 10 итераций: 0.136214\n",
      "Ошибка после 11 итераций: 0.134324\n",
      "Ошибка после 12 итераций: 0.132557\n",
      "Ошибка после 13 итераций: 0.130141\n",
      "Ошибка после 14 итераций: 0.128486\n",
      "Ошибка после 15 итераций: 0.126336\n",
      "Ошибка после 16 итераций: 0.125248\n",
      "Ошибка после 17 итераций: 0.123765\n",
      "Ошибка после 18 итераций: 0.121696\n",
      "Ошибка после 19 итераций: 0.119805\n",
      "Ошибка после 20 итераций: 0.118839\n",
      "Ошибка после 21 итераций: 0.117570\n",
      "Ошибка после 22 итераций: 0.115865\n",
      "Ошибка после 23 итераций: 0.114337\n",
      "Ошибка после 24 итераций: 0.112386\n",
      "Ошибка после 25 итераций: 0.112160\n",
      "Ошибка после 26 итераций: 0.110356\n",
      "Ошибка после 27 итераций: 0.109442\n",
      "Ошибка после 28 итераций: 0.108322\n",
      "Ошибка после 29 итераций: 0.107247\n",
      "Ошибка после 30 итераций: 0.106509\n",
      "Ошибка после 31 итераций: 0.104668\n",
      "Ошибка после 32 итераций: 0.104076\n",
      "Ошибка после 33 итераций: 0.102564\n",
      "Ошибка после 34 итераций: 0.102372\n",
      "Ошибка после 35 итераций: 0.101226\n",
      "Ошибка после 36 итераций: 0.100237\n",
      "Ошибка после 37 итераций: 0.099143\n",
      "Ошибка после 38 итераций: 0.098207\n",
      "Ошибка после 39 итераций: 0.096789\n",
      "Ошибка после 40 итераций: 0.096159\n",
      "Ошибка после 41 итераций: 0.095183\n",
      "Ошибка после 42 итераций: 0.094507\n",
      "Ошибка после 43 итераций: 0.094009\n",
      "Ошибка после 44 итераций: 0.092983\n",
      "Ошибка после 45 итераций: 0.092715\n",
      "Ошибка после 46 итераций: 0.090978\n",
      "Ошибка после 47 итераций: 0.091025\n",
      "Ошибка после 48 итераций: 0.090235\n",
      "Ошибка после 49 итераций: 0.089040\n",
      "Ошибка после 50 итераций: 0.088334\n",
      "Ошибка после 51 итераций: 0.088379\n",
      "Ошибка после 52 итераций: 0.087278\n",
      "Ошибка после 53 итераций: 0.086835\n",
      "Ошибка после 54 итераций: 0.086150\n",
      "Ошибка после 55 итераций: 0.084854\n",
      "Ошибка после 56 итераций: 0.084666\n",
      "Ошибка после 57 итераций: 0.083703\n",
      "Ошибка после 58 итераций: 0.083565\n",
      "Ошибка после 59 итераций: 0.083046\n",
      "Ошибка после 60 итераций: 0.082847\n",
      "Ошибка после 61 итераций: 0.081991\n",
      "Ошибка после 62 итераций: 0.081822\n",
      "Ошибка после 63 итераций: 0.081025\n",
      "Ошибка после 64 итераций: 0.079820\n",
      "Ошибка после 65 итераций: 0.079855\n",
      "Ошибка после 66 итераций: 0.078682\n",
      "Ошибка после 67 итераций: 0.078938\n",
      "Ошибка после 68 итераций: 0.078219\n",
      "Ошибка после 69 итераций: 0.078129\n",
      "Ошибка после 70 итераций: 0.077295\n",
      "Ошибка после 71 итераций: 0.076946\n",
      "Ошибка после 72 итераций: 0.076327\n",
      "Ошибка после 73 итераций: 0.075795\n",
      "Ошибка после 74 итераций: 0.075525\n",
      "Ошибка после 75 итераций: 0.075613\n",
      "Ошибка после 76 итераций: 0.074223\n",
      "Ошибка после 77 итераций: 0.074973\n",
      "Ошибка после 78 итераций: 0.073920\n",
      "Ошибка после 79 итераций: 0.073598\n",
      "Ошибка после 80 итераций: 0.073323\n",
      "Ошибка после 81 итераций: 0.072924\n",
      "Ошибка после 82 итераций: 0.073126\n",
      "Ошибка после 83 итераций: 0.071960\n",
      "Ошибка после 84 итераций: 0.071438\n",
      "Ошибка после 85 итераций: 0.071280\n",
      "Ошибка после 86 итераций: 0.070980\n",
      "Ошибка после 87 итераций: 0.070630\n",
      "Ошибка после 88 итераций: 0.070122\n",
      "Ошибка после 89 итераций: 0.069465\n",
      "Ошибка после 90 итераций: 0.069500\n",
      "Ошибка после 91 итераций: 0.069644\n",
      "Ошибка после 92 итераций: 0.069026\n",
      "Ошибка после 93 итераций: 0.068688\n",
      "Ошибка после 94 итераций: 0.067741\n",
      "Ошибка после 95 итераций: 0.067864\n",
      "Ошибка после 96 итераций: 0.067230\n",
      "Ошибка после 97 итераций: 0.067330\n",
      "Ошибка после 98 итераций: 0.066797\n",
      "Ошибка после 99 итераций: 0.066461\n",
      "Ошибка после 100 итераций: 0.066083\n",
      "Ошибка после 101 итераций: 0.065485\n",
      "Ошибка после 102 итераций: 0.065964\n",
      "Ошибка после 103 итераций: 0.065817\n",
      "Ошибка после 104 итераций: 0.064739\n",
      "Ошибка после 105 итераций: 0.064747\n",
      "Ошибка после 106 итераций: 0.064536\n",
      "Ошибка после 107 итераций: 0.064343\n",
      "Ошибка после 108 итераций: 0.064221\n",
      "Ошибка после 109 итераций: 0.063742\n",
      "Ошибка после 110 итераций: 0.063452\n",
      "Ошибка после 111 итераций: 0.063525\n",
      "Ошибка после 112 итераций: 0.062882\n",
      "Ошибка после 113 итераций: 0.062571\n",
      "Ошибка после 114 итераций: 0.062335\n",
      "Ошибка после 115 итераций: 0.061761\n",
      "Ошибка после 116 итераций: 0.061854\n",
      "Ошибка после 117 итераций: 0.061240\n",
      "Ошибка после 118 итераций: 0.061822\n",
      "Ошибка после 119 итераций: 0.061105\n",
      "Ошибка после 120 итераций: 0.060559\n",
      "Ошибка после 121 итераций: 0.061110\n",
      "Ошибка после 122 итераций: 0.060826\n",
      "Ошибка после 123 итераций: 0.060132\n",
      "Ошибка после 124 итераций: 0.060453\n",
      "Ошибка после 125 итераций: 0.059682\n",
      "Ошибка после 126 итераций: 0.059814\n",
      "Ошибка после 127 итераций: 0.058832\n",
      "Ошибка после 128 итераций: 0.059577\n",
      "Ошибка после 129 итераций: 0.059290\n",
      "Ошибка после 130 итераций: 0.058749\n",
      "Ошибка после 131 итераций: 0.058307\n",
      "Ошибка после 132 итераций: 0.058415\n",
      "Ошибка после 133 итераций: 0.058625\n",
      "Ошибка после 134 итераций: 0.057803\n",
      "Ошибка после 135 итераций: 0.057588\n",
      "Ошибка после 136 итераций: 0.057537\n",
      "Ошибка после 137 итераций: 0.057445\n",
      "Ошибка после 138 итераций: 0.056902\n",
      "Ошибка после 139 итераций: 0.056863\n",
      "Ошибка после 140 итераций: 0.056696\n",
      "Ошибка после 141 итераций: 0.056967\n",
      "Ошибка после 142 итераций: 0.056069\n",
      "Ошибка после 143 итераций: 0.056066\n",
      "Ошибка после 144 итераций: 0.056212\n",
      "Ошибка после 145 итераций: 0.055911\n",
      "Ошибка после 146 итераций: 0.055484\n",
      "Ошибка после 147 итераций: 0.055252\n",
      "Ошибка после 148 итераций: 0.054898\n",
      "Ошибка после 149 итераций: 0.054953\n",
      "Ошибка после 150 итераций: 0.055327\n",
      "Ошибка после 151 итераций: 0.054722\n",
      "Ошибка после 152 итераций: 0.054767\n",
      "Ошибка после 153 итераций: 0.054485\n",
      "Ошибка после 154 итераций: 0.054932\n",
      "Ошибка после 155 итераций: 0.054272\n",
      "Ошибка после 156 итераций: 0.054469\n",
      "Ошибка после 157 итераций: 0.053975\n",
      "Ошибка после 158 итераций: 0.053721\n",
      "Ошибка после 159 итераций: 0.053342\n",
      "Ошибка после 160 итераций: 0.053103\n",
      "Ошибка после 161 итераций: 0.053463\n",
      "Ошибка после 162 итераций: 0.052648\n",
      "Ошибка после 163 итераций: 0.052726\n",
      "Ошибка после 164 итераций: 0.052593\n",
      "Ошибка после 165 итераций: 0.052726\n",
      "Ошибка после 166 итераций: 0.052167\n",
      "Ошибка после 167 итераций: 0.052296\n",
      "Ошибка после 168 итераций: 0.052158\n",
      "Ошибка после 169 итераций: 0.051712\n",
      "Ошибка после 170 итераций: 0.051505\n",
      "Ошибка после 171 итераций: 0.051670\n",
      "Ошибка после 172 итераций: 0.051932\n",
      "Ошибка после 173 итераций: 0.051540\n",
      "Ошибка после 174 итераций: 0.051144\n",
      "Ошибка после 175 итераций: 0.051222\n",
      "Ошибка после 176 итераций: 0.050772\n",
      "Ошибка после 177 итераций: 0.050701\n",
      "Ошибка после 178 итераций: 0.050486\n",
      "Ошибка после 179 итераций: 0.050166\n",
      "Ошибка после 180 итераций: 0.050608\n",
      "Ошибка после 181 итераций: 0.050171\n",
      "Ошибка после 182 итераций: 0.049595\n",
      "Ошибка после 183 итераций: 0.050431\n",
      "Ошибка после 184 итераций: 0.050133\n",
      "Ошибка после 185 итераций: 0.049577\n",
      "Ошибка после 186 итераций: 0.049646\n",
      "Ошибка после 187 итераций: 0.049702\n",
      "Ошибка после 188 итераций: 0.049579\n",
      "Ошибка после 189 итераций: 0.049131\n",
      "Ошибка после 190 итераций: 0.048857\n",
      "Ошибка после 191 итераций: 0.049605\n",
      "Ошибка после 192 итераций: 0.048433\n",
      "Ошибка после 193 итераций: 0.048718\n",
      "Ошибка после 194 итераций: 0.048995\n",
      "Ошибка после 195 итераций: 0.048239\n",
      "Ошибка после 196 итераций: 0.048437\n",
      "Ошибка после 197 итераций: 0.048308\n",
      "Ошибка после 198 итераций: 0.047571\n",
      "Ошибка после 199 итераций: 0.048226\n"
     ]
    }
   ],
   "source": [
    "log_freq = 50\n",
    "for i in range(10000):\n",
    "    if i%log_freq == 0:\n",
    "        with torch.no_grad():\n",
    "            x, y = sample(d0, d1, 100000)\n",
    "            out = torch.sigmoid(layer(x))\n",
    "            loss = F.binary_cross_entropy(out, y)\n",
    "        print('Ошибка после %d итераций: %f' %(i/log_freq, loss))\n",
    "    layer_opt.zero_grad()\n",
    "    x, y = sample(d0, d1, 1024)\n",
    "    out = torch.sigmoid(layer(x))\n",
    "    loss = F.binary_cross_entropy(out, y)\n",
    "    loss.backward()\n",
    "    layer_opt.step()"
   ]
  },
  {
   "cell_type": "code",
   "execution_count": null,
   "metadata": {},
   "outputs": [],
   "source": []
  },
  {
   "cell_type": "code",
   "execution_count": 9,
   "metadata": {},
   "outputs": [],
   "source": [
    "# Берем другое\"тестовое\" распределение\n",
    "d0 = torch.distributions.MultivariateNormal(torch.tensor([-0.5, 3]), torch.eye(2))\n",
    "d1 = torch.distributions.MultivariateNormal(torch.tensor([1.5, -2]), torch.eye(2))\n",
    "x, y = sample(d0, d1, 1024)"
   ]
  },
  {
   "cell_type": "code",
   "execution_count": 10,
   "metadata": {},
   "outputs": [
    {
     "data": {
      "image/png": "[encoded data removed]",
      "text/plain": [
       "<Figure size 432x432 with 3 Axes>"
      ]
     },
     "metadata": {
      "needs_background": "light"
     },
     "output_type": "display_data"
    }
   ],
   "source": [
    "df = pd.DataFrame(x.numpy(), columns=[\"x\", \"y\"])\n",
    "sns.jointplot(x=\"x\", y=\"y\", data=df);"
   ]
  },
  {
   "cell_type": "code",
   "execution_count": 11,
   "metadata": {},
   "outputs": [
    {
     "data": {
      "image/png": "[encoded data removed]",
      "text/plain": [
       "<Figure size 432x288 with 1 Axes>"
      ]
     },
     "metadata": {
      "needs_background": "light"
     },
     "output_type": "display_data"
    }
   ],
   "source": [
    "with torch.no_grad():\n",
    "    dist = torch.sigmoid(layer(x)).numpy()\n",
    "sns.distplot(dist.flatten());"
   ]
  },
  {
   "cell_type": "code",
   "execution_count": null,
   "metadata": {},
   "outputs": [],
   "source": []
  }
 ],
 "metadata": {
  "kernelspec": {
   "display_name": "Python 3",
   "language": "python",
   "name": "python3"
  },
  "language_info": {
   "codemirror_mode": {
    "name": "ipython",
    "version": 3
   },
   "file_extension": ".py",
   "mimetype": "text/x-python",
   "name": "python",
   "nbconvert_exporter": "python",
   "pygments_lexer": "ipython3",
   "version": "3.6.8"
  }
 },
 "nbformat": 4,
 "nbformat_minor": 2
}
