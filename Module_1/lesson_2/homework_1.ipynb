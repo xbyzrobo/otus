{
 "cells": [
  {
   "cell_type": "code",
   "execution_count": 1,
   "metadata": {},
   "outputs": [],
   "source": [
    "import torch\n",
    "import torch.nn as nn\n",
    "import torch.nn.functional as F\n",
    "import torch.optim as optim\n",
    "\n",
    "import numpy as np\n",
    "from numpy.linalg import norm\n",
    "import scipy.stats as stats\n",
    "import matplotlib.pyplot as plt\n",
    "from mpl_toolkits.mplot3d import Axes3D\n",
    "import matplotlib.pyplot as plt\n",
    "import seaborn as sns\n",
    "import pandas as pd\n",
    "\n",
    "\n",
    "%matplotlib inline "
   ]
  },
  {
   "cell_type": "code",
   "execution_count": 2,
   "metadata": {},
   "outputs": [],
   "source": [
    "# параметры распределений\n",
    "mu0 = np.array([-2.,1.])\n",
    "mu1 = np.array([3.,-0.5])"
   ]
  },
  {
   "cell_type": "code",
   "execution_count": 3,
   "metadata": {},
   "outputs": [],
   "source": [
    "def sample(d0, d1, n=32):\n",
    "    x0 = d0.sample((n,))\n",
    "    x1 = d1.sample((n,))\n",
    "    y0 = torch.zeros((n, 1))\n",
    "    y1 = torch.ones((n, 1))\n",
    "    return torch.cat([x0, x1], 0), torch.cat([y0, y1], 0)"
   ]
  },
  {
   "cell_type": "code",
   "execution_count": 4,
   "metadata": {},
   "outputs": [],
   "source": [
    "d0 = torch.distributions.MultivariateNormal(torch.tensor(mu0.data), torch.eye(2))\n",
    "d1 = torch.distributions.MultivariateNormal(torch.tensor(mu1.data), torch.eye(2))"
   ]
  },
  {
   "cell_type": "code",
   "execution_count": 5,
   "metadata": {},
   "outputs": [
    {
     "data": {
      "text/plain": [
       "tensor([[-1.8445,  1.1693],\n",
       "        [-2.0838,  3.1221],\n",
       "        [-2.1121,  2.4604],\n",
       "        [-2.4387, -0.6776],\n",
       "        [-2.6333, -0.0055],\n",
       "        [-3.3535, -0.4838],\n",
       "        [-3.7068, -0.4601],\n",
       "        [-1.9203,  0.3411],\n",
       "        [-1.0498,  1.6754],\n",
       "        [ 0.4897,  1.0257]])"
      ]
     },
     "execution_count": 5,
     "metadata": {},
     "output_type": "execute_result"
    }
   ],
   "source": [
    "d0.sample((10,))"
   ]
  },
  {
   "cell_type": "code",
   "execution_count": 6,
   "metadata": {},
   "outputs": [
    {
     "data": {
      "text/plain": [
       "tensor([[ 1.4430, -0.2835],\n",
       "        [ 3.9705, -0.8912],\n",
       "        [ 2.3378, -1.6407],\n",
       "        [ 2.6849, -1.0365],\n",
       "        [ 4.2192, -0.8347],\n",
       "        [ 3.8297, -0.3508],\n",
       "        [ 3.1616, -0.1267],\n",
       "        [ 4.5818, -1.0834],\n",
       "        [ 2.4438, -0.7325],\n",
       "        [ 3.0924,  0.5151]])"
      ]
     },
     "execution_count": 6,
     "metadata": {},
     "output_type": "execute_result"
    }
   ],
   "source": [
    "d1.sample((10,))"
   ]
  },
  {
   "cell_type": "code",
   "execution_count": 7,
   "metadata": {},
   "outputs": [
    {
     "name": "stdout",
     "output_type": "stream",
     "text": [
      "[tensor([0.1664, 0.5865]), tensor(0.3895)]\n"
     ]
    }
   ],
   "source": [
    "layer = nn.Linear(2, 1)\n",
    "print([p.data[0] for p in layer.parameters()])\n",
    "layer_opt = optim.SGD(lr=1e-3, params=list(layer.parameters()))"
   ]
  },
  {
   "cell_type": "code",
   "execution_count": 8,
   "metadata": {},
   "outputs": [
    {
     "name": "stdout",
     "output_type": "stream",
     "text": [
      "Ошибка после 0 итераций: 0.793463\n",
      "Ошибка после 1 итераций: 0.366860\n",
      "Ошибка после 2 итераций: 0.237998\n",
      "Ошибка после 3 итераций: 0.180092\n",
      "Ошибка после 4 итераций: 0.146935\n",
      "Ошибка после 5 итераций: 0.125027\n",
      "Ошибка после 6 итераций: 0.110004\n",
      "Ошибка после 7 итераций: 0.099084\n",
      "Ошибка после 8 итераций: 0.089854\n",
      "Ошибка после 9 итераций: 0.083518\n",
      "Ошибка после 10 итераций: 0.078016\n",
      "Ошибка после 11 итераций: 0.073248\n",
      "Ошибка после 12 итераций: 0.069516\n",
      "Ошибка после 13 итераций: 0.065899\n",
      "Ошибка после 14 итераций: 0.062644\n",
      "Ошибка после 15 итераций: 0.060181\n",
      "Ошибка после 16 итераций: 0.057736\n",
      "Ошибка после 17 итераций: 0.055797\n",
      "Ошибка после 18 итераций: 0.054230\n",
      "Ошибка после 19 итераций: 0.052427\n"
     ]
    }
   ],
   "source": [
    "log_freq = 500\n",
    "for i in range(10000):\n",
    "    if i%log_freq == 0:\n",
    "        with torch.no_grad():\n",
    "            x, y = sample(d0, d1, 100000)\n",
    "            out = torch.sigmoid(layer(x))\n",
    "            loss = F.binary_cross_entropy(out, y)\n",
    "        print('Ошибка после %d итераций: %f' %(i/log_freq, loss))\n",
    "    layer_opt.zero_grad()\n",
    "    x, y = sample(d0, d1, 1024)\n",
    "    out = torch.sigmoid(layer(x))\n",
    "    loss = F.binary_cross_entropy(out, y)\n",
    "    loss.backward()\n",
    "    layer_opt.step()"
   ]
  },
  {
   "cell_type": "code",
   "execution_count": null,
   "metadata": {},
   "outputs": [],
   "source": []
  },
  {
   "cell_type": "code",
   "execution_count": 9,
   "metadata": {},
   "outputs": [],
   "source": [
    "# Берем другое\"тестовое\" распределение\n",
    "d0 = torch.distributions.MultivariateNormal(torch.tensor([-0.5, 3]), torch.eye(2))\n",
    "d1 = torch.distributions.MultivariateNormal(torch.tensor([1.5, -2]), torch.eye(2))\n",
    "x, y = sample(d0, d1, 1024)"
   ]
  },
  {
   "cell_type": "code",
   "execution_count": 10,
   "metadata": {},
   "outputs": [
    {
     "data": {
      "image/png": "[encoded data removed]",
      "text/plain": [
       "<Figure size 432x288 with 1 Axes>"
      ]
     },
     "metadata": {
      "needs_background": "light"
     },
     "output_type": "display_data"
    },
    {
     "data": {
      "image/png": "[encoded data removed]",
      "text/plain": [
       "<Figure size 432x432 with 3 Axes>"
      ]
     },
     "metadata": {
      "needs_background": "light"
     },
     "output_type": "display_data"
    }
   ],
   "source": [
    "with torch.no_grad():\n",
    "    dist = torch.sigmoid(layer(x)).numpy()\n",
    "sns.distplot(dist.flatten());\n",
    "df = pd.DataFrame(x.numpy(), columns=[\"x\", \"y\"])\n",
    "sns.jointplot(x=\"x\", y=\"y\", data=df);"
   ]
  },
  {
   "cell_type": "code",
   "execution_count": null,
   "metadata": {},
   "outputs": [],
   "source": []
  }
 ],
 "metadata": {
  "kernelspec": {
   "display_name": "Python 3",
   "language": "python",
   "name": "python3"
  },
  "language_info": {
   "codemirror_mode": {
    "name": "ipython",
    "version": 3
   },
   "file_extension": ".py",
   "mimetype": "text/x-python",
   "name": "python",
   "nbconvert_exporter": "python",
   "pygments_lexer": "ipython3",
   "version": "3.6.8"
  }
 },
 "nbformat": 4,
 "nbformat_minor": 2
}
